{
  "nbformat": 4,
  "nbformat_minor": 5,
  "metadata": {
    "kernelspec": {
      "display_name": "Python 3 (ipykernel)",
      "language": "python",
      "name": "python3"
    },
    "language_info": {
      "codemirror_mode": {
        "name": "ipython",
        "version": 3
      },
      "file_extension": ".py",
      "mimetype": "text/x-python",
      "name": "python",
      "nbconvert_exporter": "python",
      "pygments_lexer": "ipython3",
      "version": "3.9.2"
    },
    "colab": {
      "name": "Copy of entri.ipynb",
      "provenance": [],
      "collapsed_sections": []
    }
  },
  "cells": [
    {
      "cell_type": "code",
      "metadata": {
        "id": "1723645e-4b1e-446c-a2b1-9b37601147b7"
      },
      "source": [
        "import numpy as np \n",
        "import pandas as pd\n",
        "import matplotlib.pyplot as plt\n",
        "dfs=pd.read_csv('track_subscription_data.csv')\n",
        "dfpp=pd.read_csv('user_purchase_data.csv')\n",
        "dfq=pd.read_csv('user_quiz_attempt_data.csv')\n",
        "dfsc=pd.read_csv('user_studycard_data.csv')\n",
        "dfv=pd.read_csv('user_video_activity_data.csv')"
      ],
      "id": "1723645e-4b1e-446c-a2b1-9b37601147b7",
      "execution_count": null,
      "outputs": []
    },
    {
      "cell_type": "code",
      "metadata": {
        "colab": {
          "base_uri": "https://localhost:8080/",
          "height": 281
        },
        "id": "1c6810ff-c284-4f2c-9080-83a07d265b15",
        "outputId": "99a99800-64ad-4454-ba93-92d71ebf1959"
      },
      "source": [
        "\n",
        "f=dfs.groupby('user_id').agg({'track_slug': ['count']})\n",
        "plt.plot(f)\n"
      ],
      "id": "1c6810ff-c284-4f2c-9080-83a07d265b15",
      "execution_count": null,
      "outputs": [
        {
          "output_type": "execute_result",
          "data": {
            "text/plain": [
              "[<matplotlib.lines.Line2D at 0x7faf8e7d9750>]"
            ]
          },
          "metadata": {
            "tags": []
          },
          "execution_count": 65
        },
        {
          "output_type": "display_data",
          "data": {
            "image/png": "[encoded data removed]",
            "text/plain": [
              "<Figure size 432x288 with 1 Axes>"
            ]
          },
          "metadata": {
            "tags": [],
            "needs_background": "light"
          }
        }
      ]
    },
    {
      "cell_type": "code",
      "metadata": {
        "id": "9d372a68-565b-4478-aacd-88f9d391d06c",
        "colab": {
          "base_uri": "https://localhost:8080/",
          "height": 408
        },
        "outputId": "f3ea61d8-20d1-4399-b63d-4767b16716ba"
      },
      "source": [
        "# unpaid users\n",
        "dfj=dfpp.loc[dfpp.date_of_first_purhcase.isnull()].reset_index(drop=True)\n",
        "\n",
        "dfj=dfj.filter(regex='(user_uid|date_joined)')\n",
        "dfj"
      ],
      "id": "9d372a68-565b-4478-aacd-88f9d391d06c",
      "execution_count": null,
      "outputs": [
        {
          "output_type": "execute_result",
          "data": {
            "text/html": [
              "<div>\n",
              "<style scoped>\n",
              "    .dataframe tbody tr th:only-of-type {\n",
              "        vertical-align: middle;\n",
              "    }\n",
              "\n",
              "    .dataframe tbody tr th {\n",
              "        vertical-align: top;\n",
              "    }\n",
              "\n",
              "    .dataframe thead th {\n",
              "        text-align: right;\n",
              "    }\n",
              "</style>\n",
              "<table border=\"1\" class=\"dataframe\">\n",
              "  <thead>\n",
              "    <tr style=\"text-align: right;\">\n",
              "      <th></th>\n",
              "      <th>user_uid</th>\n",
              "      <th>date_joined</th>\n",
              "    </tr>\n",
              "  </thead>\n",
              "  <tbody>\n",
              "    <tr>\n",
              "      <th>0</th>\n",
              "      <td>608</td>\n",
              "      <td>2021-06-04</td>\n",
              "    </tr>\n",
              "    <tr>\n",
              "      <th>1</th>\n",
              "      <td>635</td>\n",
              "      <td>2021-06-04</td>\n",
              "    </tr>\n",
              "    <tr>\n",
              "      <th>2</th>\n",
              "      <td>745</td>\n",
              "      <td>2021-06-04</td>\n",
              "    </tr>\n",
              "    <tr>\n",
              "      <th>3</th>\n",
              "      <td>1506</td>\n",
              "      <td>2021-06-04</td>\n",
              "    </tr>\n",
              "    <tr>\n",
              "      <th>4</th>\n",
              "      <td>1512</td>\n",
              "      <td>2021-06-04</td>\n",
              "    </tr>\n",
              "    <tr>\n",
              "      <th>...</th>\n",
              "      <td>...</td>\n",
              "      <td>...</td>\n",
              "    </tr>\n",
              "    <tr>\n",
              "      <th>419</th>\n",
              "      <td>402379</td>\n",
              "      <td>2021-08-02</td>\n",
              "    </tr>\n",
              "    <tr>\n",
              "      <th>420</th>\n",
              "      <td>402595</td>\n",
              "      <td>2021-08-02</td>\n",
              "    </tr>\n",
              "    <tr>\n",
              "      <th>421</th>\n",
              "      <td>402741</td>\n",
              "      <td>2021-08-02</td>\n",
              "    </tr>\n",
              "    <tr>\n",
              "      <th>422</th>\n",
              "      <td>403486</td>\n",
              "      <td>2021-08-02</td>\n",
              "    </tr>\n",
              "    <tr>\n",
              "      <th>423</th>\n",
              "      <td>404290</td>\n",
              "      <td>2021-08-02</td>\n",
              "    </tr>\n",
              "  </tbody>\n",
              "</table>\n",
              "<p>424 rows × 2 columns</p>\n",
              "</div>"
            ],
            "text/plain": [
              "     user_uid date_joined\n",
              "0         608  2021-06-04\n",
              "1         635  2021-06-04\n",
              "2         745  2021-06-04\n",
              "3        1506  2021-06-04\n",
              "4        1512  2021-06-04\n",
              "..        ...         ...\n",
              "419    402379  2021-08-02\n",
              "420    402595  2021-08-02\n",
              "421    402741  2021-08-02\n",
              "422    403486  2021-08-02\n",
              "423    404290  2021-08-02\n",
              "\n",
              "[424 rows x 2 columns]"
            ]
          },
          "metadata": {
            "tags": []
          },
          "execution_count": 66
        }
      ]
    },
    {
      "cell_type": "code",
      "metadata": {
        "colab": {
          "base_uri": "https://localhost:8080/",
          "height": 297
        },
        "id": "4be27d5a-918d-4cb2-80c2-162999a88078",
        "outputId": "014aafc1-dd2f-4892-c716-9121f88e27c0"
      },
      "source": [
        "#16 unpaid users have a track_slug > 2\n",
        "dfj=dfj.rename(columns={\"user_uid\":\"user_id\"})\n",
        "dfjs=dfj.merge(dfs,on='user_id',how='left')\n",
        "dfjs=dfjs.groupby([\"user_id\",\"date_joined\"])[\"track_slug\"].size().reset_index(name='Size')\n",
        "plt.plot(dfjs.Size)\n",
        "f=dfjs.loc[dfjs.Size>2]\n",
        "f.user_id.unique()\n"
      ],
      "id": "4be27d5a-918d-4cb2-80c2-162999a88078",
      "execution_count": null,
      "outputs": [
        {
          "output_type": "execute_result",
          "data": {
            "text/plain": [
              "array([   608,   5243,  12749,  46198,  78626,  90705,  96798, 106598,\n",
              "       137700, 190648, 220901, 244791, 267883, 274156, 342761, 374291])"
            ]
          },
          "metadata": {
            "tags": []
          },
          "execution_count": 67
        },
        {
          "output_type": "display_data",
          "data": {
            "image/png": "[encoded data removed]",
            "text/plain": [
              "<Figure size 432x288 with 1 Axes>"
            ]
          },
          "metadata": {
            "tags": [],
            "needs_background": "light"
          }
        }
      ]
    },
    {
      "cell_type": "code",
      "metadata": {
        "colab": {
          "base_uri": "https://localhost:8080/"
        },
        "id": "3c19bc47-1c45-448c-8c0f-e28755a221bd",
        "outputId": "02c9452c-6725-4ebe-ce16-6c2a793df69c"
      },
      "source": [
        "# out of 576 joined users 478 turned into paid in one week\n",
        "\n",
        "dfp=dfpp.loc[dfpp.date_of_first_purhcase.notnull()].reset_index(drop=True)\n",
        "\n",
        "dfp=dfp.rename(columns={\"user_uid\":\"user_id\"})\n",
        "dfp=dfp.merge(dfs)\n",
        "start_date=pd.to_datetime(dfp['date_joined'])\n",
        "\n",
        "end_date=start_date+pd.Timedelta(days=6)\n",
        "dfp['end_date']=end_date\n",
        "dfp['date_of_first_purhcase']=pd.to_datetime(dfp['date_of_first_purhcase'])\n",
        "dfp.user_id.nunique()\n",
        "\n",
        "#dfp.columns"
      ],
      "id": "3c19bc47-1c45-448c-8c0f-e28755a221bd",
      "execution_count": null,
      "outputs": [
        {
          "output_type": "execute_result",
          "data": {
            "text/plain": [
              "576"
            ]
          },
          "metadata": {
            "tags": []
          },
          "execution_count": 68
        }
      ]
    },
    {
      "cell_type": "code",
      "metadata": {
        "colab": {
          "base_uri": "https://localhost:8080/"
        },
        "id": "VCWji8A9e3mo",
        "outputId": "0740468a-3e2b-4917-e96e-dda82a6c1e26"
      },
      "source": [
        "dfp.info()"
      ],
      "id": "VCWji8A9e3mo",
      "execution_count": null,
      "outputs": [
        {
          "output_type": "stream",
          "text": [
            "<class 'pandas.core.frame.DataFrame'>\n",
            "Int64Index: 1096 entries, 0 to 1095\n",
            "Data columns (total 6 columns):\n",
            " #   Column                  Non-Null Count  Dtype         \n",
            "---  ------                  --------------  -----         \n",
            " 0   user_id                 1096 non-null   int64         \n",
            " 1   date_joined             1096 non-null   object        \n",
            " 2   date_of_first_purhcase  1096 non-null   datetime64[ns]\n",
            " 3   track_slug              1096 non-null   object        \n",
            " 4   subscription_date       1096 non-null   object        \n",
            " 5   end_date                1096 non-null   datetime64[ns]\n",
            "dtypes: datetime64[ns](2), int64(1), object(3)\n",
            "memory usage: 59.9+ KB\n"
          ],
          "name": "stdout"
        }
      ]
    },
    {
      "cell_type": "code",
      "metadata": {
        "colab": {
          "base_uri": "https://localhost:8080/"
        },
        "id": "fbd18942-adab-412c-94cd-ca9535d014d4",
        "outputId": "d970d244-e204-4019-e436-dc6620c38022"
      },
      "source": [
        "dfp=dfp.loc[dfp['date_of_first_purhcase']<=dfp['end_date']]\n",
        "\n",
        "dfp.user_id.nunique()"
      ],
      "id": "fbd18942-adab-412c-94cd-ca9535d014d4",
      "execution_count": null,
      "outputs": [
        {
          "output_type": "execute_result",
          "data": {
            "text/plain": [
              "478"
            ]
          },
          "metadata": {
            "tags": []
          },
          "execution_count": 70
        }
      ]
    },
    {
      "cell_type": "code",
      "metadata": {
        "colab": {
          "base_uri": "https://localhost:8080/",
          "height": 313
        },
        "id": "7b70bc43-9ffd-41aa-bab2-c713e234ad92",
        "outputId": "e42590cf-52f9-45db-8ea9-13dd0f15f34e"
      },
      "source": [
        "# 64 paid users have a track_slug > 2 and 21 user have a track_slug> 4\n",
        "\n",
        "dfps=dfp.groupby([\"user_id\",\"date_joined\"])[\"track_slug\"].size().reset_index(name='Size')\n",
        "plt.plot(dfps.Size)\n",
        "g=dfps.loc[dfps.Size>4]\n",
        "g.user_id.unique()"
      ],
      "id": "7b70bc43-9ffd-41aa-bab2-c713e234ad92",
      "execution_count": null,
      "outputs": [
        {
          "output_type": "execute_result",
          "data": {
            "text/plain": [
              "array([ 18663,  29712,  31373,  38705, 111765, 139721, 147358, 174794,\n",
              "       182587, 220264, 233588, 262154, 283356, 316386, 319002, 326446,\n",
              "       333016, 353235, 370221, 370323, 390115])"
            ]
          },
          "metadata": {
            "tags": []
          },
          "execution_count": 71
        },
        {
          "output_type": "display_data",
          "data": {
            "image/png": "[encoded data removed]",
            "text/plain": [
              "<Figure size 432x288 with 1 Axes>"
            ]
          },
          "metadata": {
            "tags": [],
            "needs_background": "light"
          }
        }
      ]
    },
    {
      "cell_type": "code",
      "metadata": {
        "colab": {
          "base_uri": "https://localhost:8080/",
          "height": 622
        },
        "id": "ba64f752-74a3-442f-85f7-2af0140d197c",
        "outputId": "3155be72-dbcb-43c3-c4e4-da4303f0777a"
      },
      "source": [
        "#out of 630 user attempted the quiz 126 are unpaid user ,and 56 users have attempted \n",
        "#the users more than once and 32 have attempted it more than twice & 9 of them more than 10 times\n",
        "print(dfq['status'].value_counts())\n",
        "print(dfq.groupby([\"user_id\",\"status\"])[\"attempt_id\"].size().reset_index(name='Size').user_id.nunique())\n",
        "\n",
        "dfjq=dfq.merge(dfj,on='user_id',how='left')\n",
        "unpaid=dfjq.dropna()\n",
        "print(unpaid.user_id.nunique())\n",
        "#list of unpaid users attempted the quiz\n",
        "list_unpaid=unpaid.user_id.unique()\n",
        "t=unpaid.groupby([\"user_id\",\"status\"])[\"attempt_id\"].size().reset_index(name='Size')\n",
        "print(t)\n",
        "plt.plot(t.Size)\n",
        "f=t.loc[t.Size>10]\n",
        "#list of unpaid users attempted the quiz = tf\n",
        "tf=f.user_id.unique()\n",
        "f.user_id.nunique()\n",
        "#list of unpaid users attempted the quiz more than 10 times=9\n",
        "print(tf)"
      ],
      "id": "ba64f752-74a3-442f-85f7-2af0140d197c",
      "execution_count": null,
      "outputs": [
        {
          "output_type": "stream",
          "text": [
            "COMPLETE    13833\n",
            "CREATE       6950\n",
            "PAUSE         489\n",
            "PROGRESS      147\n",
            "Name: status, dtype: int64\n",
            "630\n",
            "126\n",
            "     user_id    status  Size\n",
            "0       1506    CREATE     1\n",
            "1       1506     PAUSE     1\n",
            "2       1796  COMPLETE     1\n",
            "3       9331  COMPLETE     1\n",
            "4       9331    CREATE     1\n",
            "..       ...       ...   ...\n",
            "229   393962  COMPLETE     1\n",
            "230   393962    CREATE     1\n",
            "231   396772  COMPLETE     1\n",
            "232   396772    CREATE     1\n",
            "233   400920    CREATE     1\n",
            "\n",
            "[234 rows x 3 columns]\n",
            "[183640 200545 230701 236083 282968 317685 362281 374291 379523]\n"
          ],
          "name": "stdout"
        },
        {
          "output_type": "display_data",
          "data": {
            "image/png": "[encoded data removed]",
            "text/plain": [
              "<Figure size 432x288 with 1 Axes>"
            ]
          },
          "metadata": {
            "tags": [],
            "needs_background": "light"
          }
        }
      ]
    },
    {
      "cell_type": "code",
      "metadata": {
        "id": "34c0d368-a5df-4f04-9f76-257ec5f7867a"
      },
      "source": [
        "watched_at=pd.to_datetime(dfv['watched_at'])\n",
        "\n",
        "dfv['date']=watched_at.dt.date\n",
        "dfv['date']=pd.to_datetime(dfv['date'])"
      ],
      "id": "34c0d368-a5df-4f04-9f76-257ec5f7867a",
      "execution_count": null,
      "outputs": []
    },
    {
      "cell_type": "code",
      "metadata": {
        "id": "249cd63c-8f11-451b-ae63-76670e618516"
      },
      "source": [
        "start_date=pd.to_datetime(dfj['date_joined'])\n",
        "end_date=start_date+pd.Timedelta(days=6)\n",
        "dfv['end_date']=end_date"
      ],
      "id": "249cd63c-8f11-451b-ae63-76670e618516",
      "execution_count": null,
      "outputs": []
    },
    {
      "cell_type": "code",
      "metadata": {
        "colab": {
          "base_uri": "https://localhost:8080/",
          "height": 408
        },
        "id": "d26c6b0e-7ff0-447e-920a-eb6a20638ec6",
        "outputId": "73a34474-a7f9-4a5b-9a71-7e1b220c1645"
      },
      "source": [
        "dfv=dfv.loc[dfv['date']<=dfv['end_date']]\n",
        "dfv"
      ],
      "id": "d26c6b0e-7ff0-447e-920a-eb6a20638ec6",
      "execution_count": null,
      "outputs": [
        {
          "output_type": "execute_result",
          "data": {
            "text/html": [
              "<div>\n",
              "<style scoped>\n",
              "    .dataframe tbody tr th:only-of-type {\n",
              "        vertical-align: middle;\n",
              "    }\n",
              "\n",
              "    .dataframe tbody tr th {\n",
              "        vertical-align: top;\n",
              "    }\n",
              "\n",
              "    .dataframe thead th {\n",
              "        text-align: right;\n",
              "    }\n",
              "</style>\n",
              "<table border=\"1\" class=\"dataframe\">\n",
              "  <thead>\n",
              "    <tr style=\"text-align: right;\">\n",
              "      <th></th>\n",
              "      <th>user_id</th>\n",
              "      <th>watch_instance_id</th>\n",
              "      <th>watched_at</th>\n",
              "      <th>video_id</th>\n",
              "      <th>duration</th>\n",
              "      <th>watched_duration</th>\n",
              "      <th>date</th>\n",
              "      <th>end_date</th>\n",
              "    </tr>\n",
              "  </thead>\n",
              "  <tbody>\n",
              "    <tr>\n",
              "      <th>2</th>\n",
              "      <td>6</td>\n",
              "      <td>24011079</td>\n",
              "      <td>2021-06-04 18:27:01.296468+00:00</td>\n",
              "      <td>24920</td>\n",
              "      <td>1589</td>\n",
              "      <td>55</td>\n",
              "      <td>2021-06-04</td>\n",
              "      <td>2021-06-10</td>\n",
              "    </tr>\n",
              "    <tr>\n",
              "      <th>3</th>\n",
              "      <td>6</td>\n",
              "      <td>24011800</td>\n",
              "      <td>2021-06-04 18:51:27.450857+00:00</td>\n",
              "      <td>24531</td>\n",
              "      <td>319</td>\n",
              "      <td>28</td>\n",
              "      <td>2021-06-04</td>\n",
              "      <td>2021-06-10</td>\n",
              "    </tr>\n",
              "    <tr>\n",
              "      <th>4</th>\n",
              "      <td>6</td>\n",
              "      <td>24249571</td>\n",
              "      <td>2021-06-08 11:19:02.187747+00:00</td>\n",
              "      <td>32825</td>\n",
              "      <td>317</td>\n",
              "      <td>15</td>\n",
              "      <td>2021-06-08</td>\n",
              "      <td>2021-06-10</td>\n",
              "    </tr>\n",
              "    <tr>\n",
              "      <th>6</th>\n",
              "      <td>6</td>\n",
              "      <td>24487133</td>\n",
              "      <td>2021-06-11 18:10:55.176817+00:00</td>\n",
              "      <td>25840</td>\n",
              "      <td>1251</td>\n",
              "      <td>17</td>\n",
              "      <td>2021-06-11</td>\n",
              "      <td>2021-06-11</td>\n",
              "    </tr>\n",
              "    <tr>\n",
              "      <th>7</th>\n",
              "      <td>6</td>\n",
              "      <td>24487136</td>\n",
              "      <td>2021-06-11 18:10:58.296319+00:00</td>\n",
              "      <td>25841</td>\n",
              "      <td>1826</td>\n",
              "      <td>1</td>\n",
              "      <td>2021-06-11</td>\n",
              "      <td>2021-06-11</td>\n",
              "    </tr>\n",
              "    <tr>\n",
              "      <th>...</th>\n",
              "      <td>...</td>\n",
              "      <td>...</td>\n",
              "      <td>...</td>\n",
              "      <td>...</td>\n",
              "      <td>...</td>\n",
              "      <td>...</td>\n",
              "      <td>...</td>\n",
              "      <td>...</td>\n",
              "    </tr>\n",
              "    <tr>\n",
              "      <th>419</th>\n",
              "      <td>6323</td>\n",
              "      <td>26920147</td>\n",
              "      <td>2021-07-25 06:23:35.103433+00:00</td>\n",
              "      <td>6853</td>\n",
              "      <td>704</td>\n",
              "      <td>0</td>\n",
              "      <td>2021-07-25</td>\n",
              "      <td>2021-08-08</td>\n",
              "    </tr>\n",
              "    <tr>\n",
              "      <th>420</th>\n",
              "      <td>6323</td>\n",
              "      <td>24048228</td>\n",
              "      <td>2021-06-05 10:45:41.389610+00:00</td>\n",
              "      <td>5860</td>\n",
              "      <td>1032</td>\n",
              "      <td>1032</td>\n",
              "      <td>2021-06-05</td>\n",
              "      <td>2021-08-08</td>\n",
              "    </tr>\n",
              "    <tr>\n",
              "      <th>421</th>\n",
              "      <td>6323</td>\n",
              "      <td>24047726</td>\n",
              "      <td>2021-06-05 10:38:58.267544+00:00</td>\n",
              "      <td>5859</td>\n",
              "      <td>369</td>\n",
              "      <td>369</td>\n",
              "      <td>2021-06-05</td>\n",
              "      <td>2021-08-08</td>\n",
              "    </tr>\n",
              "    <tr>\n",
              "      <th>422</th>\n",
              "      <td>6323</td>\n",
              "      <td>24753939</td>\n",
              "      <td>2021-06-16 05:26:30.122661+00:00</td>\n",
              "      <td>5870</td>\n",
              "      <td>955</td>\n",
              "      <td>955</td>\n",
              "      <td>2021-06-16</td>\n",
              "      <td>2021-08-08</td>\n",
              "    </tr>\n",
              "    <tr>\n",
              "      <th>423</th>\n",
              "      <td>6323</td>\n",
              "      <td>25258229</td>\n",
              "      <td>2021-06-25 04:31:01.614953+00:00</td>\n",
              "      <td>5873</td>\n",
              "      <td>545</td>\n",
              "      <td>545</td>\n",
              "      <td>2021-06-25</td>\n",
              "      <td>2021-08-08</td>\n",
              "    </tr>\n",
              "  </tbody>\n",
              "</table>\n",
              "<p>295 rows × 8 columns</p>\n",
              "</div>"
            ],
            "text/plain": [
              "     user_id  watch_instance_id  ...       date   end_date\n",
              "2          6           24011079  ... 2021-06-04 2021-06-10\n",
              "3          6           24011800  ... 2021-06-04 2021-06-10\n",
              "4          6           24249571  ... 2021-06-08 2021-06-10\n",
              "6          6           24487133  ... 2021-06-11 2021-06-11\n",
              "7          6           24487136  ... 2021-06-11 2021-06-11\n",
              "..       ...                ...  ...        ...        ...\n",
              "419     6323           26920147  ... 2021-07-25 2021-08-08\n",
              "420     6323           24048228  ... 2021-06-05 2021-08-08\n",
              "421     6323           24047726  ... 2021-06-05 2021-08-08\n",
              "422     6323           24753939  ... 2021-06-16 2021-08-08\n",
              "423     6323           25258229  ... 2021-06-25 2021-08-08\n",
              "\n",
              "[295 rows x 8 columns]"
            ]
          },
          "metadata": {
            "tags": []
          },
          "execution_count": 75
        }
      ]
    },
    {
      "cell_type": "code",
      "metadata": {
        "colab": {
          "base_uri": "https://localhost:8080/",
          "height": 297
        },
        "id": "c4b06433-925c-49cb-b6a3-7d92c43d6917",
        "outputId": "4382a7ff-9570-433d-ed0f-ada66f9b46a0"
      },
      "source": [
        "# •\tIn 1st week of joining 7 users have watched 80 % of the video more than once\n",
        "features=dfv.groupby('user_id')['date'].nunique().reset_index().rename(columns={'date':'Size_7_Days'})\n",
        "\n",
        "features['Size_7_Days']=features['Size_7_Days'].fillna(0)\n",
        "plt.plot(features.Size_7_Days)\n",
        "g=features.loc[features.Size_7_Days>1]\n",
        "g.user_id.unique()"
      ],
      "id": "c4b06433-925c-49cb-b6a3-7d92c43d6917",
      "execution_count": null,
      "outputs": [
        {
          "output_type": "execute_result",
          "data": {
            "text/plain": [
              "array([   6, 1831, 2610, 3418, 3421, 3439, 3464, 3664, 5201, 5243, 5609,\n",
              "       6190, 6323])"
            ]
          },
          "metadata": {
            "tags": []
          },
          "execution_count": 76
        },
        {
          "output_type": "display_data",
          "data": {
            "image/png": "[encoded data removed]",
            "text/plain": [
              "<Figure size 432x288 with 1 Axes>"
            ]
          },
          "metadata": {
            "tags": [],
            "needs_background": "light"
          }
        }
      ]
    },
    {
      "cell_type": "code",
      "metadata": {
        "id": "fb457930-d721-4d70-a862-f460582d8b8e"
      },
      "source": [
        "dfv=dfv.merge(features,on='user_id',how='left')"
      ],
      "id": "fb457930-d721-4d70-a862-f460582d8b8e",
      "execution_count": null,
      "outputs": []
    },
    {
      "cell_type": "code",
      "metadata": {
        "colab": {
          "base_uri": "https://localhost:8080/"
        },
        "id": "ce14c842-f518-452e-a968-1ef63d8dd40d",
        "outputId": "0c5ee386-f857-4a0c-f1fb-d563030d4d6c"
      },
      "source": [
        "#14 unique users have watched the 80% of the vedio\n",
        "dfv.user_id.unique()"
      ],
      "id": "ce14c842-f518-452e-a968-1ef63d8dd40d",
      "execution_count": null,
      "outputs": [
        {
          "output_type": "execute_result",
          "data": {
            "text/plain": [
              "array([   6,  635, 1512, 1642, 1796, 1831, 2610, 3418, 3421, 3439, 3458,\n",
              "       3464, 3664, 3827, 5201, 5243, 5609, 5970, 6190, 6323])"
            ]
          },
          "metadata": {
            "tags": []
          },
          "execution_count": 78
        }
      ]
    },
    {
      "cell_type": "code",
      "metadata": {
        "id": "c20507ad-5027-4fb9-8875-86a7e8cc04fd"
      },
      "source": [
        "dfv=dfv.loc[(dfv['watched_duration']>=.8*dfv['duration'])]"
      ],
      "id": "c20507ad-5027-4fb9-8875-86a7e8cc04fd",
      "execution_count": null,
      "outputs": []
    },
    {
      "cell_type": "code",
      "metadata": {
        "colab": {
          "base_uri": "https://localhost:8080/",
          "height": 408
        },
        "id": "30ddaa18-49c0-4e07-96cb-b9205b8c2beb",
        "outputId": "ab5f6305-00c4-424e-afc6-2f15e1c185bc"
      },
      "source": [
        "dfv.drop_duplicates()\n"
      ],
      "id": "30ddaa18-49c0-4e07-96cb-b9205b8c2beb",
      "execution_count": null,
      "outputs": [
        {
          "output_type": "execute_result",
          "data": {
            "text/html": [
              "<div>\n",
              "<style scoped>\n",
              "    .dataframe tbody tr th:only-of-type {\n",
              "        vertical-align: middle;\n",
              "    }\n",
              "\n",
              "    .dataframe tbody tr th {\n",
              "        vertical-align: top;\n",
              "    }\n",
              "\n",
              "    .dataframe thead th {\n",
              "        text-align: right;\n",
              "    }\n",
              "</style>\n",
              "<table border=\"1\" class=\"dataframe\">\n",
              "  <thead>\n",
              "    <tr style=\"text-align: right;\">\n",
              "      <th></th>\n",
              "      <th>user_id</th>\n",
              "      <th>watch_instance_id</th>\n",
              "      <th>watched_at</th>\n",
              "      <th>video_id</th>\n",
              "      <th>duration</th>\n",
              "      <th>watched_duration</th>\n",
              "      <th>date</th>\n",
              "      <th>end_date</th>\n",
              "      <th>Size_7_Days</th>\n",
              "    </tr>\n",
              "  </thead>\n",
              "  <tbody>\n",
              "    <tr>\n",
              "      <th>11</th>\n",
              "      <td>6</td>\n",
              "      <td>24192841</td>\n",
              "      <td>2021-06-07 14:42:09.156320+00:00</td>\n",
              "      <td>24688</td>\n",
              "      <td>1706</td>\n",
              "      <td>1402</td>\n",
              "      <td>2021-06-07</td>\n",
              "      <td>2021-06-13</td>\n",
              "      <td>9</td>\n",
              "    </tr>\n",
              "    <tr>\n",
              "      <th>15</th>\n",
              "      <td>6</td>\n",
              "      <td>24424110</td>\n",
              "      <td>2021-06-10 18:24:49.636961+00:00</td>\n",
              "      <td>24865</td>\n",
              "      <td>1969</td>\n",
              "      <td>1884</td>\n",
              "      <td>2021-06-10</td>\n",
              "      <td>2021-06-14</td>\n",
              "      <td>9</td>\n",
              "    </tr>\n",
              "    <tr>\n",
              "      <th>16</th>\n",
              "      <td>6</td>\n",
              "      <td>24552968</td>\n",
              "      <td>2021-06-12 18:30:06.474527+00:00</td>\n",
              "      <td>38016</td>\n",
              "      <td>507</td>\n",
              "      <td>507</td>\n",
              "      <td>2021-06-12</td>\n",
              "      <td>2021-06-14</td>\n",
              "      <td>9</td>\n",
              "    </tr>\n",
              "    <tr>\n",
              "      <th>17</th>\n",
              "      <td>6</td>\n",
              "      <td>24076979</td>\n",
              "      <td>2021-06-05 18:29:41.182395+00:00</td>\n",
              "      <td>25413</td>\n",
              "      <td>2026</td>\n",
              "      <td>1945</td>\n",
              "      <td>2021-06-05</td>\n",
              "      <td>2021-06-14</td>\n",
              "      <td>9</td>\n",
              "    </tr>\n",
              "    <tr>\n",
              "      <th>18</th>\n",
              "      <td>6</td>\n",
              "      <td>24553784</td>\n",
              "      <td>2021-06-12 18:55:59.162422+00:00</td>\n",
              "      <td>25414</td>\n",
              "      <td>1210</td>\n",
              "      <td>1210</td>\n",
              "      <td>2021-06-12</td>\n",
              "      <td>2021-06-14</td>\n",
              "      <td>9</td>\n",
              "    </tr>\n",
              "    <tr>\n",
              "      <th>...</th>\n",
              "      <td>...</td>\n",
              "      <td>...</td>\n",
              "      <td>...</td>\n",
              "      <td>...</td>\n",
              "      <td>...</td>\n",
              "      <td>...</td>\n",
              "      <td>...</td>\n",
              "      <td>...</td>\n",
              "      <td>...</td>\n",
              "    </tr>\n",
              "    <tr>\n",
              "      <th>289</th>\n",
              "      <td>6323</td>\n",
              "      <td>24298665</td>\n",
              "      <td>2021-06-09 06:07:12.333717+00:00</td>\n",
              "      <td>5867</td>\n",
              "      <td>690</td>\n",
              "      <td>690</td>\n",
              "      <td>2021-06-09</td>\n",
              "      <td>2021-08-08</td>\n",
              "      <td>9</td>\n",
              "    </tr>\n",
              "    <tr>\n",
              "      <th>291</th>\n",
              "      <td>6323</td>\n",
              "      <td>24048228</td>\n",
              "      <td>2021-06-05 10:45:41.389610+00:00</td>\n",
              "      <td>5860</td>\n",
              "      <td>1032</td>\n",
              "      <td>1032</td>\n",
              "      <td>2021-06-05</td>\n",
              "      <td>2021-08-08</td>\n",
              "      <td>9</td>\n",
              "    </tr>\n",
              "    <tr>\n",
              "      <th>292</th>\n",
              "      <td>6323</td>\n",
              "      <td>24047726</td>\n",
              "      <td>2021-06-05 10:38:58.267544+00:00</td>\n",
              "      <td>5859</td>\n",
              "      <td>369</td>\n",
              "      <td>369</td>\n",
              "      <td>2021-06-05</td>\n",
              "      <td>2021-08-08</td>\n",
              "      <td>9</td>\n",
              "    </tr>\n",
              "    <tr>\n",
              "      <th>293</th>\n",
              "      <td>6323</td>\n",
              "      <td>24753939</td>\n",
              "      <td>2021-06-16 05:26:30.122661+00:00</td>\n",
              "      <td>5870</td>\n",
              "      <td>955</td>\n",
              "      <td>955</td>\n",
              "      <td>2021-06-16</td>\n",
              "      <td>2021-08-08</td>\n",
              "      <td>9</td>\n",
              "    </tr>\n",
              "    <tr>\n",
              "      <th>294</th>\n",
              "      <td>6323</td>\n",
              "      <td>25258229</td>\n",
              "      <td>2021-06-25 04:31:01.614953+00:00</td>\n",
              "      <td>5873</td>\n",
              "      <td>545</td>\n",
              "      <td>545</td>\n",
              "      <td>2021-06-25</td>\n",
              "      <td>2021-08-08</td>\n",
              "      <td>9</td>\n",
              "    </tr>\n",
              "  </tbody>\n",
              "</table>\n",
              "<p>149 rows × 9 columns</p>\n",
              "</div>"
            ],
            "text/plain": [
              "     user_id  watch_instance_id  ...   end_date  Size_7_Days\n",
              "11         6           24192841  ... 2021-06-13            9\n",
              "15         6           24424110  ... 2021-06-14            9\n",
              "16         6           24552968  ... 2021-06-14            9\n",
              "17         6           24076979  ... 2021-06-14            9\n",
              "18         6           24553784  ... 2021-06-14            9\n",
              "..       ...                ...  ...        ...          ...\n",
              "289     6323           24298665  ... 2021-08-08            9\n",
              "291     6323           24048228  ... 2021-08-08            9\n",
              "292     6323           24047726  ... 2021-08-08            9\n",
              "293     6323           24753939  ... 2021-08-08            9\n",
              "294     6323           25258229  ... 2021-08-08            9\n",
              "\n",
              "[149 rows x 9 columns]"
            ]
          },
          "metadata": {
            "tags": []
          },
          "execution_count": 80
        }
      ]
    },
    {
      "cell_type": "code",
      "metadata": {
        "colab": {
          "base_uri": "https://localhost:8080/",
          "height": 471
        },
        "id": "ee568b4e-5005-4293-8202-9c1e36f6bce8",
        "outputId": "b6a37720-19dd-48c7-c313-fca6d94198c6"
      },
      "source": [
        "dfv.groupby('user_id')['date'].nunique().reset_index()"
      ],
      "id": "ee568b4e-5005-4293-8202-9c1e36f6bce8",
      "execution_count": null,
      "outputs": [
        {
          "output_type": "execute_result",
          "data": {
            "text/html": [
              "<div>\n",
              "<style scoped>\n",
              "    .dataframe tbody tr th:only-of-type {\n",
              "        vertical-align: middle;\n",
              "    }\n",
              "\n",
              "    .dataframe tbody tr th {\n",
              "        vertical-align: top;\n",
              "    }\n",
              "\n",
              "    .dataframe thead th {\n",
              "        text-align: right;\n",
              "    }\n",
              "</style>\n",
              "<table border=\"1\" class=\"dataframe\">\n",
              "  <thead>\n",
              "    <tr style=\"text-align: right;\">\n",
              "      <th></th>\n",
              "      <th>user_id</th>\n",
              "      <th>date</th>\n",
              "    </tr>\n",
              "  </thead>\n",
              "  <tbody>\n",
              "    <tr>\n",
              "      <th>0</th>\n",
              "      <td>6</td>\n",
              "      <td>5</td>\n",
              "    </tr>\n",
              "    <tr>\n",
              "      <th>1</th>\n",
              "      <td>635</td>\n",
              "      <td>1</td>\n",
              "    </tr>\n",
              "    <tr>\n",
              "      <th>2</th>\n",
              "      <td>1512</td>\n",
              "      <td>1</td>\n",
              "    </tr>\n",
              "    <tr>\n",
              "      <th>3</th>\n",
              "      <td>1831</td>\n",
              "      <td>5</td>\n",
              "    </tr>\n",
              "    <tr>\n",
              "      <th>4</th>\n",
              "      <td>2610</td>\n",
              "      <td>17</td>\n",
              "    </tr>\n",
              "    <tr>\n",
              "      <th>5</th>\n",
              "      <td>3418</td>\n",
              "      <td>2</td>\n",
              "    </tr>\n",
              "    <tr>\n",
              "      <th>6</th>\n",
              "      <td>3421</td>\n",
              "      <td>2</td>\n",
              "    </tr>\n",
              "    <tr>\n",
              "      <th>7</th>\n",
              "      <td>3439</td>\n",
              "      <td>3</td>\n",
              "    </tr>\n",
              "    <tr>\n",
              "      <th>8</th>\n",
              "      <td>3464</td>\n",
              "      <td>4</td>\n",
              "    </tr>\n",
              "    <tr>\n",
              "      <th>9</th>\n",
              "      <td>3664</td>\n",
              "      <td>15</td>\n",
              "    </tr>\n",
              "    <tr>\n",
              "      <th>10</th>\n",
              "      <td>5201</td>\n",
              "      <td>1</td>\n",
              "    </tr>\n",
              "    <tr>\n",
              "      <th>11</th>\n",
              "      <td>5243</td>\n",
              "      <td>1</td>\n",
              "    </tr>\n",
              "    <tr>\n",
              "      <th>12</th>\n",
              "      <td>6190</td>\n",
              "      <td>12</td>\n",
              "    </tr>\n",
              "    <tr>\n",
              "      <th>13</th>\n",
              "      <td>6323</td>\n",
              "      <td>8</td>\n",
              "    </tr>\n",
              "  </tbody>\n",
              "</table>\n",
              "</div>"
            ],
            "text/plain": [
              "    user_id  date\n",
              "0         6     5\n",
              "1       635     1\n",
              "2      1512     1\n",
              "3      1831     5\n",
              "4      2610    17\n",
              "5      3418     2\n",
              "6      3421     2\n",
              "7      3439     3\n",
              "8      3464     4\n",
              "9      3664    15\n",
              "10     5201     1\n",
              "11     5243     1\n",
              "12     6190    12\n",
              "13     6323     8"
            ]
          },
          "metadata": {
            "tags": []
          },
          "execution_count": 81
        }
      ]
    },
    {
      "cell_type": "code",
      "metadata": {
        "colab": {
          "base_uri": "https://localhost:8080/"
        },
        "id": "cc5c7f43-85f5-4759-bc05-4ae29e37b1fb",
        "outputId": "1671f6f1-5c5e-4d58-9314-014b91e89730"
      },
      "source": [
        "dfj.columns"
      ],
      "id": "cc5c7f43-85f5-4759-bc05-4ae29e37b1fb",
      "execution_count": null,
      "outputs": [
        {
          "output_type": "execute_result",
          "data": {
            "text/plain": [
              "Index(['user_id', 'date_joined'], dtype='object')"
            ]
          },
          "metadata": {
            "tags": []
          },
          "execution_count": 82
        }
      ]
    },
    {
      "cell_type": "code",
      "metadata": {
        "id": "fb12b62d-1bfd-4366-a53d-aa89218f0caa"
      },
      "source": [
        ""
      ],
      "id": "fb12b62d-1bfd-4366-a53d-aa89218f0caa",
      "execution_count": null,
      "outputs": []
    },
    {
      "cell_type": "code",
      "metadata": {
        "id": "3f4ba535-f04a-481f-b0ad-d8c23c3f318b"
      },
      "source": [
        "start_date=pd.to_datetime(dfj['date_joined'])\n",
        "dfv['start_date']=start_date"
      ],
      "id": "3f4ba535-f04a-481f-b0ad-d8c23c3f318b",
      "execution_count": null,
      "outputs": []
    },
    {
      "cell_type": "code",
      "metadata": {
        "id": "f00023af-4b81-4587-b0ed-c72eb3bb90c0"
      },
      "source": [
        "end_date=start_date+pd.Timedelta(days=6)\n",
        "dfv['end_date']=pd.to_datetime(end_date)"
      ],
      "id": "f00023af-4b81-4587-b0ed-c72eb3bb90c0",
      "execution_count": null,
      "outputs": []
    },
    {
      "cell_type": "code",
      "metadata": {
        "id": "7fc9801f-483c-44b2-99df-c29a26db57e8"
      },
      "source": [
        "watched_at=pd.to_datetime(dfv['watched_at'])\n",
        "\n",
        "date=watched_at.dt.date\n",
        "dfv['date']=pd.to_datetime(date)\n",
        "        "
      ],
      "id": "7fc9801f-483c-44b2-99df-c29a26db57e8",
      "execution_count": null,
      "outputs": []
    },
    {
      "cell_type": "code",
      "metadata": {
        "id": "3127ab5b-8609-41d3-90ea-6120b387cf7d"
      },
      "source": [
        "dfvj=dfv.loc[(dfv['date'] >=dfv['start_date'])&(dfv['date'] <dfv['end_date'])]\n",
        "\n",
        "        "
      ],
      "id": "3127ab5b-8609-41d3-90ea-6120b387cf7d",
      "execution_count": null,
      "outputs": []
    },
    {
      "cell_type": "code",
      "metadata": {
        "id": "9b596167-e72d-4172-8b68-b173ffda7b10"
      },
      "source": [
        "#no of users who have watched 30 percent of the video\n",
        "dfvj=dfvj.loc[(dfvj['watched_duration']>=.3*dfvj['duration'])]\n",
        "        \n",
        "\n",
        "features=dfvj.groupby('user_id')['date'].nunique().reset_index().rename(columns={'date':'Size_7_Days'})\n",
        "\n",
        "features['Size_7_Days']=features['Size_7_Days'].fillna(0)"
      ],
      "id": "9b596167-e72d-4172-8b68-b173ffda7b10",
      "execution_count": null,
      "outputs": []
    },
    {
      "cell_type": "code",
      "metadata": {
        "id": "e03d9ef7-9e1f-45d2-b6e1-c205f3f48d8c"
      },
      "source": [
        "#features=features.merge(dfvj.groupby(['user_id']).size().unstack().fillna(0).reset_index()\n"
      ],
      "id": "e03d9ef7-9e1f-45d2-b6e1-c205f3f48d8c",
      "execution_count": null,
      "outputs": []
    },
    {
      "cell_type": "code",
      "metadata": {
        "colab": {
          "base_uri": "https://localhost:8080/",
          "height": 1000
        },
        "id": "9834c767-d8be-4dc1-b4c8-e57f7d1bb552",
        "outputId": "ce0e10a5-0cf6-403a-b061-6d4b57d28f85"
      },
      "source": [
        "\n",
        "dfvj=dfvj.merge(features,on='user_id',how='left')\n",
        "dfvj=dfvj.fillna(0)\n",
        "dfvj.drop_duplicates() \n",
        "dfvj.filter(regex='(user_id|Size_7_Days|watched_duration)')"
      ],
      "id": "9834c767-d8be-4dc1-b4c8-e57f7d1bb552",
      "execution_count": null,
      "outputs": [
        {
          "output_type": "execute_result",
          "data": {
            "text/html": [
              "<div>\n",
              "<style scoped>\n",
              "    .dataframe tbody tr th:only-of-type {\n",
              "        vertical-align: middle;\n",
              "    }\n",
              "\n",
              "    .dataframe tbody tr th {\n",
              "        vertical-align: top;\n",
              "    }\n",
              "\n",
              "    .dataframe thead th {\n",
              "        text-align: right;\n",
              "    }\n",
              "</style>\n",
              "<table border=\"1\" class=\"dataframe\">\n",
              "  <thead>\n",
              "    <tr style=\"text-align: right;\">\n",
              "      <th></th>\n",
              "      <th>user_id</th>\n",
              "      <th>watched_duration</th>\n",
              "      <th>Size_7_Days_x</th>\n",
              "      <th>Size_7_Days_y</th>\n",
              "    </tr>\n",
              "  </thead>\n",
              "  <tbody>\n",
              "    <tr>\n",
              "      <th>0</th>\n",
              "      <td>6</td>\n",
              "      <td>1402</td>\n",
              "      <td>9</td>\n",
              "      <td>4</td>\n",
              "    </tr>\n",
              "    <tr>\n",
              "      <th>1</th>\n",
              "      <td>6</td>\n",
              "      <td>1884</td>\n",
              "      <td>9</td>\n",
              "      <td>4</td>\n",
              "    </tr>\n",
              "    <tr>\n",
              "      <th>2</th>\n",
              "      <td>6</td>\n",
              "      <td>507</td>\n",
              "      <td>9</td>\n",
              "      <td>4</td>\n",
              "    </tr>\n",
              "    <tr>\n",
              "      <th>3</th>\n",
              "      <td>6</td>\n",
              "      <td>1210</td>\n",
              "      <td>9</td>\n",
              "      <td>4</td>\n",
              "    </tr>\n",
              "    <tr>\n",
              "      <th>4</th>\n",
              "      <td>6</td>\n",
              "      <td>2005</td>\n",
              "      <td>9</td>\n",
              "      <td>4</td>\n",
              "    </tr>\n",
              "    <tr>\n",
              "      <th>5</th>\n",
              "      <td>6</td>\n",
              "      <td>1846</td>\n",
              "      <td>9</td>\n",
              "      <td>4</td>\n",
              "    </tr>\n",
              "    <tr>\n",
              "      <th>6</th>\n",
              "      <td>6</td>\n",
              "      <td>1812</td>\n",
              "      <td>9</td>\n",
              "      <td>4</td>\n",
              "    </tr>\n",
              "    <tr>\n",
              "      <th>7</th>\n",
              "      <td>6</td>\n",
              "      <td>928</td>\n",
              "      <td>9</td>\n",
              "      <td>4</td>\n",
              "    </tr>\n",
              "    <tr>\n",
              "      <th>8</th>\n",
              "      <td>6</td>\n",
              "      <td>910</td>\n",
              "      <td>9</td>\n",
              "      <td>4</td>\n",
              "    </tr>\n",
              "    <tr>\n",
              "      <th>9</th>\n",
              "      <td>2610</td>\n",
              "      <td>708</td>\n",
              "      <td>17</td>\n",
              "      <td>9</td>\n",
              "    </tr>\n",
              "    <tr>\n",
              "      <th>10</th>\n",
              "      <td>2610</td>\n",
              "      <td>620</td>\n",
              "      <td>17</td>\n",
              "      <td>9</td>\n",
              "    </tr>\n",
              "    <tr>\n",
              "      <th>11</th>\n",
              "      <td>2610</td>\n",
              "      <td>729</td>\n",
              "      <td>17</td>\n",
              "      <td>9</td>\n",
              "    </tr>\n",
              "    <tr>\n",
              "      <th>12</th>\n",
              "      <td>2610</td>\n",
              "      <td>696</td>\n",
              "      <td>17</td>\n",
              "      <td>9</td>\n",
              "    </tr>\n",
              "    <tr>\n",
              "      <th>13</th>\n",
              "      <td>2610</td>\n",
              "      <td>800</td>\n",
              "      <td>17</td>\n",
              "      <td>9</td>\n",
              "    </tr>\n",
              "    <tr>\n",
              "      <th>14</th>\n",
              "      <td>2610</td>\n",
              "      <td>728</td>\n",
              "      <td>17</td>\n",
              "      <td>9</td>\n",
              "    </tr>\n",
              "    <tr>\n",
              "      <th>15</th>\n",
              "      <td>2610</td>\n",
              "      <td>704</td>\n",
              "      <td>17</td>\n",
              "      <td>9</td>\n",
              "    </tr>\n",
              "    <tr>\n",
              "      <th>16</th>\n",
              "      <td>2610</td>\n",
              "      <td>717</td>\n",
              "      <td>17</td>\n",
              "      <td>9</td>\n",
              "    </tr>\n",
              "    <tr>\n",
              "      <th>17</th>\n",
              "      <td>2610</td>\n",
              "      <td>659</td>\n",
              "      <td>17</td>\n",
              "      <td>9</td>\n",
              "    </tr>\n",
              "    <tr>\n",
              "      <th>18</th>\n",
              "      <td>2610</td>\n",
              "      <td>599</td>\n",
              "      <td>17</td>\n",
              "      <td>9</td>\n",
              "    </tr>\n",
              "    <tr>\n",
              "      <th>19</th>\n",
              "      <td>2610</td>\n",
              "      <td>607</td>\n",
              "      <td>17</td>\n",
              "      <td>9</td>\n",
              "    </tr>\n",
              "    <tr>\n",
              "      <th>20</th>\n",
              "      <td>2610</td>\n",
              "      <td>1135</td>\n",
              "      <td>17</td>\n",
              "      <td>9</td>\n",
              "    </tr>\n",
              "    <tr>\n",
              "      <th>21</th>\n",
              "      <td>2610</td>\n",
              "      <td>573</td>\n",
              "      <td>17</td>\n",
              "      <td>9</td>\n",
              "    </tr>\n",
              "    <tr>\n",
              "      <th>22</th>\n",
              "      <td>2610</td>\n",
              "      <td>728</td>\n",
              "      <td>17</td>\n",
              "      <td>9</td>\n",
              "    </tr>\n",
              "    <tr>\n",
              "      <th>23</th>\n",
              "      <td>2610</td>\n",
              "      <td>807</td>\n",
              "      <td>17</td>\n",
              "      <td>9</td>\n",
              "    </tr>\n",
              "    <tr>\n",
              "      <th>24</th>\n",
              "      <td>2610</td>\n",
              "      <td>624</td>\n",
              "      <td>17</td>\n",
              "      <td>9</td>\n",
              "    </tr>\n",
              "    <tr>\n",
              "      <th>25</th>\n",
              "      <td>2610</td>\n",
              "      <td>567</td>\n",
              "      <td>17</td>\n",
              "      <td>9</td>\n",
              "    </tr>\n",
              "    <tr>\n",
              "      <th>26</th>\n",
              "      <td>2610</td>\n",
              "      <td>758</td>\n",
              "      <td>17</td>\n",
              "      <td>9</td>\n",
              "    </tr>\n",
              "    <tr>\n",
              "      <th>27</th>\n",
              "      <td>2610</td>\n",
              "      <td>661</td>\n",
              "      <td>17</td>\n",
              "      <td>9</td>\n",
              "    </tr>\n",
              "    <tr>\n",
              "      <th>28</th>\n",
              "      <td>2610</td>\n",
              "      <td>542</td>\n",
              "      <td>17</td>\n",
              "      <td>9</td>\n",
              "    </tr>\n",
              "    <tr>\n",
              "      <th>29</th>\n",
              "      <td>2610</td>\n",
              "      <td>601</td>\n",
              "      <td>17</td>\n",
              "      <td>9</td>\n",
              "    </tr>\n",
              "    <tr>\n",
              "      <th>30</th>\n",
              "      <td>2610</td>\n",
              "      <td>818</td>\n",
              "      <td>17</td>\n",
              "      <td>9</td>\n",
              "    </tr>\n",
              "    <tr>\n",
              "      <th>31</th>\n",
              "      <td>3464</td>\n",
              "      <td>1901</td>\n",
              "      <td>7</td>\n",
              "      <td>1</td>\n",
              "    </tr>\n",
              "    <tr>\n",
              "      <th>32</th>\n",
              "      <td>3664</td>\n",
              "      <td>1706</td>\n",
              "      <td>18</td>\n",
              "      <td>3</td>\n",
              "    </tr>\n",
              "    <tr>\n",
              "      <th>33</th>\n",
              "      <td>3664</td>\n",
              "      <td>1770</td>\n",
              "      <td>18</td>\n",
              "      <td>3</td>\n",
              "    </tr>\n",
              "    <tr>\n",
              "      <th>34</th>\n",
              "      <td>3664</td>\n",
              "      <td>2129</td>\n",
              "      <td>18</td>\n",
              "      <td>3</td>\n",
              "    </tr>\n",
              "    <tr>\n",
              "      <th>35</th>\n",
              "      <td>3664</td>\n",
              "      <td>1217</td>\n",
              "      <td>18</td>\n",
              "      <td>3</td>\n",
              "    </tr>\n",
              "    <tr>\n",
              "      <th>36</th>\n",
              "      <td>6323</td>\n",
              "      <td>708</td>\n",
              "      <td>9</td>\n",
              "      <td>1</td>\n",
              "    </tr>\n",
              "  </tbody>\n",
              "</table>\n",
              "</div>"
            ],
            "text/plain": [
              "    user_id  watched_duration  Size_7_Days_x  Size_7_Days_y\n",
              "0         6              1402              9              4\n",
              "1         6              1884              9              4\n",
              "2         6               507              9              4\n",
              "3         6              1210              9              4\n",
              "4         6              2005              9              4\n",
              "5         6              1846              9              4\n",
              "6         6              1812              9              4\n",
              "7         6               928              9              4\n",
              "8         6               910              9              4\n",
              "9      2610               708             17              9\n",
              "10     2610               620             17              9\n",
              "11     2610               729             17              9\n",
              "12     2610               696             17              9\n",
              "13     2610               800             17              9\n",
              "14     2610               728             17              9\n",
              "15     2610               704             17              9\n",
              "16     2610               717             17              9\n",
              "17     2610               659             17              9\n",
              "18     2610               599             17              9\n",
              "19     2610               607             17              9\n",
              "20     2610              1135             17              9\n",
              "21     2610               573             17              9\n",
              "22     2610               728             17              9\n",
              "23     2610               807             17              9\n",
              "24     2610               624             17              9\n",
              "25     2610               567             17              9\n",
              "26     2610               758             17              9\n",
              "27     2610               661             17              9\n",
              "28     2610               542             17              9\n",
              "29     2610               601             17              9\n",
              "30     2610               818             17              9\n",
              "31     3464              1901              7              1\n",
              "32     3664              1706             18              3\n",
              "33     3664              1770             18              3\n",
              "34     3664              2129             18              3\n",
              "35     3664              1217             18              3\n",
              "36     6323               708              9              1"
            ]
          },
          "metadata": {
            "tags": []
          },
          "execution_count": 89
        }
      ]
    },
    {
      "cell_type": "code",
      "metadata": {
        "colab": {
          "base_uri": "https://localhost:8080/",
          "height": 176
        },
        "id": "462099c1-66f7-496a-b9d1-a4d029504b5c",
        "outputId": "dc23f984-4f9d-4f3c-d7f0-1bc648552d61"
      },
      "source": [
        "# 3 users have watched 30 % of vedio more than once .And user with ID 2610 have watched it 22 times\n",
        "#and he is a paid user\n",
        "\n",
        "print(dfvj.user_id.value_counts())\n",
        "s=dfp.loc[dfp.user_id==2610]\n",
        "s"
      ],
      "id": "462099c1-66f7-496a-b9d1-a4d029504b5c",
      "execution_count": null,
      "outputs": [
        {
          "output_type": "stream",
          "text": [
            "2610    22\n",
            "6        9\n",
            "3664     4\n",
            "6323     1\n",
            "3464     1\n",
            "Name: user_id, dtype: int64\n"
          ],
          "name": "stdout"
        },
        {
          "output_type": "execute_result",
          "data": {
            "text/html": [
              "<div>\n",
              "<style scoped>\n",
              "    .dataframe tbody tr th:only-of-type {\n",
              "        vertical-align: middle;\n",
              "    }\n",
              "\n",
              "    .dataframe tbody tr th {\n",
              "        vertical-align: top;\n",
              "    }\n",
              "\n",
              "    .dataframe thead th {\n",
              "        text-align: right;\n",
              "    }\n",
              "</style>\n",
              "<table border=\"1\" class=\"dataframe\">\n",
              "  <thead>\n",
              "    <tr style=\"text-align: right;\">\n",
              "      <th></th>\n",
              "      <th>user_id</th>\n",
              "      <th>date_joined</th>\n",
              "      <th>date_of_first_purhcase</th>\n",
              "      <th>track_slug</th>\n",
              "      <th>subscription_date</th>\n",
              "      <th>end_date</th>\n",
              "    </tr>\n",
              "  </thead>\n",
              "  <tbody>\n",
              "    <tr>\n",
              "      <th>4</th>\n",
              "      <td>2610</td>\n",
              "      <td>2021-06-05</td>\n",
              "      <td>2021-06-05</td>\n",
              "      <td>Spoken_eng_hindi</td>\n",
              "      <td>2021-06-05</td>\n",
              "      <td>2021-06-11</td>\n",
              "    </tr>\n",
              "  </tbody>\n",
              "</table>\n",
              "</div>"
            ],
            "text/plain": [
              "   user_id date_joined  ... subscription_date   end_date\n",
              "4     2610  2021-06-05  ...        2021-06-05 2021-06-11\n",
              "\n",
              "[1 rows x 6 columns]"
            ]
          },
          "metadata": {
            "tags": []
          },
          "execution_count": 90
        }
      ]
    },
    {
      "cell_type": "code",
      "metadata": {
        "colab": {
          "base_uri": "https://localhost:8080/",
          "height": 200
        },
        "id": "3192f9c7-5a2f-46bd-a150-a3630757bc03",
        "outputId": "abb0adf1-1358-48c2-8cb6-966343b73f87"
      },
      "source": [
        "dfsc.head()"
      ],
      "id": "3192f9c7-5a2f-46bd-a150-a3630757bc03",
      "execution_count": null,
      "outputs": [
        {
          "output_type": "execute_result",
          "data": {
            "text/html": [
              "<div>\n",
              "<style scoped>\n",
              "    .dataframe tbody tr th:only-of-type {\n",
              "        vertical-align: middle;\n",
              "    }\n",
              "\n",
              "    .dataframe tbody tr th {\n",
              "        vertical-align: top;\n",
              "    }\n",
              "\n",
              "    .dataframe thead th {\n",
              "        text-align: right;\n",
              "    }\n",
              "</style>\n",
              "<table border=\"1\" class=\"dataframe\">\n",
              "  <thead>\n",
              "    <tr style=\"text-align: right;\">\n",
              "      <th></th>\n",
              "      <th>user_id</th>\n",
              "      <th>activity_id</th>\n",
              "      <th>start_time</th>\n",
              "    </tr>\n",
              "  </thead>\n",
              "  <tbody>\n",
              "    <tr>\n",
              "      <th>0</th>\n",
              "      <td>1642</td>\n",
              "      <td>4197126</td>\n",
              "      <td>2021-06-04 16:51:51.454473+00:00</td>\n",
              "    </tr>\n",
              "    <tr>\n",
              "      <th>1</th>\n",
              "      <td>1642</td>\n",
              "      <td>4197075</td>\n",
              "      <td>2021-06-04 16:43:10.115201+00:00</td>\n",
              "    </tr>\n",
              "    <tr>\n",
              "      <th>2</th>\n",
              "      <td>1642</td>\n",
              "      <td>4197074</td>\n",
              "      <td>2021-06-04 16:43:10.082261+00:00</td>\n",
              "    </tr>\n",
              "    <tr>\n",
              "      <th>3</th>\n",
              "      <td>1642</td>\n",
              "      <td>4197577</td>\n",
              "      <td>2021-06-04 18:20:58.487196+00:00</td>\n",
              "    </tr>\n",
              "    <tr>\n",
              "      <th>4</th>\n",
              "      <td>1642</td>\n",
              "      <td>4197174</td>\n",
              "      <td>2021-06-04 16:57:46.487970+00:00</td>\n",
              "    </tr>\n",
              "  </tbody>\n",
              "</table>\n",
              "</div>"
            ],
            "text/plain": [
              "   user_id  activity_id                        start_time\n",
              "0     1642      4197126  2021-06-04 16:51:51.454473+00:00\n",
              "1     1642      4197075  2021-06-04 16:43:10.115201+00:00\n",
              "2     1642      4197074  2021-06-04 16:43:10.082261+00:00\n",
              "3     1642      4197577  2021-06-04 18:20:58.487196+00:00\n",
              "4     1642      4197174  2021-06-04 16:57:46.487970+00:00"
            ]
          },
          "metadata": {
            "tags": []
          },
          "execution_count": 91
        }
      ]
    },
    {
      "cell_type": "code",
      "metadata": {
        "id": "875a908a-2c1e-4814-a0ad-48656dd7ac22"
      },
      "source": [
        "for v, data in dfq.groupby('status'):\n",
        "  data.to_csv(\"{}.csv\".format(v))"
      ],
      "id": "875a908a-2c1e-4814-a0ad-48656dd7ac22",
      "execution_count": null,
      "outputs": []
    },
    {
      "cell_type": "code",
      "metadata": {
        "colab": {
          "base_uri": "https://localhost:8080/"
        },
        "id": "d3c8f86c-caed-44b6-abe8-afdec50a0c69",
        "outputId": "bc2dc7f1-66f5-4378-f9b5-668667ac9a85"
      },
      "source": [
        "#528 have completed the quiz\n",
        "dfqc=pd.read_csv('COMPLETE.csv')\n",
        "dfqc.user_id.nunique()"
      ],
      "id": "d3c8f86c-caed-44b6-abe8-afdec50a0c69",
      "execution_count": null,
      "outputs": [
        {
          "output_type": "execute_result",
          "data": {
            "text/plain": [
              "528"
            ]
          },
          "metadata": {
            "tags": []
          },
          "execution_count": 93
        }
      ]
    },
    {
      "cell_type": "code",
      "metadata": {
        "colab": {
          "base_uri": "https://localhost:8080/",
          "height": 378
        },
        "id": "47ca60bc-62b2-4176-84e3-1fda33fabc30",
        "outputId": "ec7c78bf-a281-452f-bf19-7f4f48fdea37"
      },
      "source": [
        "# out of 526 quiz completed users ,56 users have completed the quiz more than 50 times,& their ids are in g50\n",
        "h=dfqc.groupby([\"user_id\",\"status\"])[\"attempt_id\"].size().reset_index(name='Size')\n",
        "#print(h)\n",
        "\n",
        "dfjh=h.merge(dfj,on='user_id',how='left')\n",
        "dfjhd=dfjh.dropna()\n",
        "plt.plot(h.Size)\n",
        "g=h.loc[h.Size>50]\n",
        "g.user_id.nunique()\n",
        "g50=g.user_id.unique()\n",
        "g50"
      ],
      "id": "47ca60bc-62b2-4176-84e3-1fda33fabc30",
      "execution_count": null,
      "outputs": [
        {
          "output_type": "execute_result",
          "data": {
            "text/plain": [
              "array([     6,   2610,   3439,   3664,   7102,   8062,  15431,  19117,\n",
              "        20740,  21760,  26580,  27946,  28487,  31373,  34271,  38599,\n",
              "        39651,  41706,  43158,  56741,  61874,  69406,  73700,  87284,\n",
              "        89201,  91932, 103374, 111765, 111882, 113055, 136944, 141215,\n",
              "       144412, 144826, 154908, 175451, 178088, 178241, 182587, 188711,\n",
              "       193673, 201710, 213215, 229734, 241728, 244599, 259160, 282968,\n",
              "       292188, 333016, 333562, 337722, 338577, 362281, 379523, 397309])"
            ]
          },
          "metadata": {
            "tags": []
          },
          "execution_count": 94
        },
        {
          "output_type": "display_data",
          "data": {
            "image/png": "[encoded data removed]",
            "text/plain": [
              "<Figure size 432x288 with 1 Axes>"
            ]
          },
          "metadata": {
            "tags": [],
            "needs_background": "light"
          }
        }
      ]
    },
    {
      "cell_type": "code",
      "metadata": {
        "colab": {
          "base_uri": "https://localhost:8080/"
        },
        "id": "569a1be2-f898-465c-8411-03e4dcc3f208",
        "outputId": "303349af-6665-4f5e-db68-b159e8f90796"
      },
      "source": [
        "dfsc.columns"
      ],
      "id": "569a1be2-f898-465c-8411-03e4dcc3f208",
      "execution_count": null,
      "outputs": [
        {
          "output_type": "execute_result",
          "data": {
            "text/plain": [
              "Index(['user_id', 'activity_id', 'start_time'], dtype='object')"
            ]
          },
          "metadata": {
            "tags": []
          },
          "execution_count": 95
        }
      ]
    },
    {
      "cell_type": "code",
      "metadata": {
        "id": "34cec157-01e0-41f9-a4cf-c080ba2c2d02"
      },
      "source": [
        "s=pd.to_datetime(dfsc['start_time'])\n",
        "dfsc['date']=s.dt.date\n",
        "dfsc['date']=pd.to_datetime(dfsc['date'])\n",
        "\n",
        "start_date=pd.to_datetime(dfj['date_joined'])\n",
        "dfj['start_date']=start_date"
      ],
      "id": "34cec157-01e0-41f9-a4cf-c080ba2c2d02",
      "execution_count": null,
      "outputs": []
    },
    {
      "cell_type": "code",
      "metadata": {
        "id": "6f0d61bf-ab5a-487d-9acd-92f39960b44e"
      },
      "source": [
        "end_date=start_date+pd.Timedelta(days=6)\n",
        "dfj['end_date']=pd.to_datetime(end_date)\n"
      ],
      "id": "6f0d61bf-ab5a-487d-9acd-92f39960b44e",
      "execution_count": null,
      "outputs": []
    },
    {
      "cell_type": "code",
      "metadata": {
        "colab": {
          "base_uri": "https://localhost:8080/"
        },
        "id": "4c137b12-5544-4752-b7ff-c0781a61b2f6",
        "outputId": "b7ed3e09-0e15-467c-c5b8-69ca4a030c36"
      },
      "source": [
        "#  473  unique users have made 900 purchases\n",
        "#dfsc=pd.merge(dfsc,dfp,on='user_id',how='left')\n",
        "dfp.user_id.nunique()"
      ],
      "id": "4c137b12-5544-4752-b7ff-c0781a61b2f6",
      "execution_count": null,
      "outputs": [
        {
          "output_type": "execute_result",
          "data": {
            "text/plain": [
              "478"
            ]
          },
          "metadata": {
            "tags": []
          },
          "execution_count": 98
        }
      ]
    },
    {
      "cell_type": "code",
      "metadata": {
        "id": "eb694e20-1a8a-453d-bf97-96356ae9e3b4"
      },
      "source": [
        " #dfsc=dfsc.merge(dfj,on='user_id',how='left')"
      ],
      "id": "eb694e20-1a8a-453d-bf97-96356ae9e3b4",
      "execution_count": null,
      "outputs": []
    },
    {
      "cell_type": "code",
      "metadata": {
        "colab": {
          "base_uri": "https://localhost:8080/"
        },
        "id": "1a5d39c7-4478-4006-b06d-2d870c06f48c",
        "outputId": "c5f33f63-ed47-4593-dc0a-e7aaf9b75386"
      },
      "source": [
        "dfsc.user_id.value_counts()\n",
        "\n",
        "#dfsc.user_id.nunique()"
      ],
      "id": "1a5d39c7-4478-4006-b06d-2d870c06f48c",
      "execution_count": null,
      "outputs": [
        {
          "output_type": "execute_result",
          "data": {
            "text/plain": [
              "28487     69\n",
              "89201     65\n",
              "2610      51\n",
              "229734    45\n",
              "61874     44\n",
              "          ..\n",
              "335233     2\n",
              "30146      2\n",
              "72616      2\n",
              "250611     2\n",
              "7102       2\n",
              "Name: user_id, Length: 386, dtype: int64"
            ]
          },
          "metadata": {
            "tags": []
          },
          "execution_count": 100
        }
      ]
    },
    {
      "cell_type": "code",
      "metadata": {
        "id": "e4d03c3a-4e87-4da2-8dbc-82ea28094808"
      },
      "source": [
        "start_date=pd.to_datetime(dfp['date_of_first_purhcase'])\n",
        "dfp['date_of_first_purhcase']=start_date\n",
        "end_date=start_date+pd.Timedelta(days=6)\n",
        "dfp['end_date']=pd.to_datetime(end_date)\n",
        "dfp=dfp.loc[dfp['date_of_first_purhcase']<=dfp['end_date']]\n"
      ],
      "id": "e4d03c3a-4e87-4da2-8dbc-82ea28094808",
      "execution_count": null,
      "outputs": []
    },
    {
      "cell_type": "code",
      "metadata": {
        "id": "1ce71679-4cf7-4eeb-98f9-96276d345f89"
      },
      "source": [
        "dfsc=dfsc.merge(dfp,on='user_id',how='left')"
      ],
      "id": "1ce71679-4cf7-4eeb-98f9-96276d345f89",
      "execution_count": null,
      "outputs": []
    },
    {
      "cell_type": "code",
      "metadata": {
        "id": "678efd03-0cc4-4c5b-857a-5330965999b0"
      },
      "source": [
        ""
      ],
      "id": "678efd03-0cc4-4c5b-857a-5330965999b0",
      "execution_count": null,
      "outputs": []
    },
    {
      "cell_type": "code",
      "metadata": {
        "colab": {
          "base_uri": "https://localhost:8080/"
        },
        "id": "5d12ecfd-4b60-481d-b981-48dd13c37aec",
        "outputId": "271231c9-4b25-4587-d229-80cec7417bd3"
      },
      "source": [
        "dfsc.user_id.value_counts()"
      ],
      "id": "5d12ecfd-4b60-481d-b981-48dd13c37aec",
      "execution_count": null,
      "outputs": [
        {
          "output_type": "execute_result",
          "data": {
            "text/plain": [
              "182587    450\n",
              "28487     207\n",
              "284306    136\n",
              "229734    135\n",
              "61874     132\n",
              "         ... \n",
              "342133      2\n",
              "126073      2\n",
              "147198      2\n",
              "106598      2\n",
              "72484       2\n",
              "Name: user_id, Length: 386, dtype: int64"
            ]
          },
          "metadata": {
            "tags": []
          },
          "execution_count": 103
        }
      ]
    },
    {
      "cell_type": "code",
      "metadata": {
        "id": "0b2d0e4d-9eef-41d4-b3d2-653ad1505398"
      },
      "source": [
        "dfsc=dfsc.loc[(dfsc['date'] <dfsc['end_date'])]"
      ],
      "id": "0b2d0e4d-9eef-41d4-b3d2-653ad1505398",
      "execution_count": null,
      "outputs": []
    },
    {
      "cell_type": "code",
      "metadata": {
        "colab": {
          "base_uri": "https://localhost:8080/",
          "height": 493
        },
        "id": "37edec71-75ae-47b1-a778-9e025bc42af5",
        "outputId": "9eb4c202-265d-467e-b5ed-46adec9d3216"
      },
      "source": [
        "# out of 414 unique user ID ,124 have track Size 124 and 20 have track size 15 and their ids are in g6\n",
        "h=dfsc.groupby([\"user_id\",\"track_slug\"])[\"activity_id\"].size().reset_index(name='Size')\n",
        "print(h)\n",
        "plt.plot(h.Size)\n",
        "g=h.loc[h.Size>15]\n",
        "g.user_id.nunique()\n",
        "g6=g.user_id.unique()\n",
        "g6=g6.tolist()\n"
      ],
      "id": "37edec71-75ae-47b1-a778-9e025bc42af5",
      "execution_count": null,
      "outputs": [
        {
          "output_type": "stream",
          "text": [
            "     user_id        track_slug  Size\n",
            "0       1642  Spoken_eng_hindi     8\n",
            "1       2610  Spoken_eng_hindi    17\n",
            "2       3421  Spoken_eng_hindi     5\n",
            "3       3439             TNPSC     2\n",
            "4       6190  Spoken_eng_hindi    18\n",
            "..       ...               ...   ...\n",
            "409   396335  Spoken_eng_hindi     3\n",
            "410   399226  Spoken_eng_hindi     4\n",
            "411   399353  Spoken_eng_hindi     3\n",
            "412   404095  Spoken_eng_hindi    10\n",
            "413   404277  Spoken_eng_hindi     2\n",
            "\n",
            "[414 rows x 3 columns]\n"
          ],
          "name": "stdout"
        },
        {
          "output_type": "display_data",
          "data": {
            "image/png": "[encoded data removed]",
            "text/plain": [
              "<Figure size 432x288 with 1 Axes>"
            ]
          },
          "metadata": {
            "tags": [],
            "needs_background": "light"
          }
        }
      ]
    },
    {
      "cell_type": "code",
      "metadata": {
        "id": "919b1600-6f95-4137-89ff-02fc1898c553"
      },
      "source": [
        "\n"
      ],
      "id": "919b1600-6f95-4137-89ff-02fc1898c553",
      "execution_count": null,
      "outputs": []
    },
    {
      "cell_type": "code",
      "metadata": {
        "id": "ff038eb6-1908-4262-b306-394f15093e3d"
      },
      "source": [
        ""
      ],
      "id": "ff038eb6-1908-4262-b306-394f15093e3d",
      "execution_count": null,
      "outputs": []
    }
  ]
}